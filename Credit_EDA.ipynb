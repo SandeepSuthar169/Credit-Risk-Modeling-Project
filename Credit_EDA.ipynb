{
  "nbformat": 4,
  "nbformat_minor": 0,
  "metadata": {
    "colab": {
      "private_outputs": true,
      "provenance": [],
      "gpuType": "T4"
    },
    "kernelspec": {
      "name": "python3",
      "display_name": "Python 3"
    },
    "language_info": {
      "name": "python"
    },
    "accelerator": "GPU"
  },
  "cells": [
    {
      "cell_type": "code",
      "source": [
        "import numpy as np\n",
        "import pandas as pd\n",
        "import matplotlib.pyplot as plt\n",
        "import seaborn as sns\n",
        "import plotly.express as px\n",
        "import plotly.graph_objects as go\n",
        "import scipy.stats as stats\n",
        "from plotly.subplots import make_subplots\n"
      ],
      "metadata": {
        "id": "6L_6zbZrxzEQ"
      },
      "execution_count": null,
      "outputs": []
    },
    {
      "cell_type": "code",
      "source": [
        "df1 = pd.read_csv(\"//content//Credit_Risk_01.xlsx.csv\")\n",
        "df2 = pd.read_csv(\"//content//Credit_Risk_02.xlsx.csv\")\n",
        "df3 = pd.read_csv(\"//content//Features_Target_Description.xlsx.csv\")"
      ],
      "metadata": {
        "id": "wiDwz0gPyK1F"
      },
      "execution_count": null,
      "outputs": []
    },
    {
      "cell_type": "code",
      "source": [
        "df1.sample(5)"
      ],
      "metadata": {
        "id": "nil859ZDyZ_n"
      },
      "execution_count": null,
      "outputs": []
    },
    {
      "cell_type": "code",
      "source": [
        "df2.sample(5)"
      ],
      "metadata": {
        "id": "b948J6UFzRjT"
      },
      "execution_count": null,
      "outputs": []
    },
    {
      "cell_type": "code",
      "source": [
        "df1.info()"
      ],
      "metadata": {
        "id": "zvHXyIiczS9F"
      },
      "execution_count": null,
      "outputs": []
    },
    {
      "cell_type": "code",
      "source": [
        "df2.info()"
      ],
      "metadata": {
        "id": "cYXUfRdczgZE"
      },
      "execution_count": null,
      "outputs": []
    },
    {
      "cell_type": "code",
      "source": [
        "print(df1.shape)\n",
        "print(df2.shape)"
      ],
      "metadata": {
        "id": "bYNswCnzBHBO"
      },
      "execution_count": null,
      "outputs": []
    },
    {
      "cell_type": "code",
      "source": [
        "print(df1.isnull().sum()/len(df1)*100)\n",
        "print(df2.isnull().sum()/len(df2)*100)"
      ],
      "metadata": {
        "id": "efzfRoB-EuFX"
      },
      "execution_count": null,
      "outputs": []
    },
    {
      "cell_type": "code",
      "source": [
        "print(df1.duplicated().sum())\n",
        "print(df2.duplicated().sum())"
      ],
      "metadata": {
        "id": "pMyXRrzUE81P"
      },
      "execution_count": null,
      "outputs": []
    },
    {
      "cell_type": "markdown",
      "source": [
        "  Important Features\n",
        "  \n",
        "1. CC_TL\n",
        "2. Age_Oldest_TL\n",
        "3. Age_Newest_TL\n",
        "4. Home_TL\n",
        "5. Tol_Missed_Pmnt\n",
        "6. Total_TL\n",
        "7. PL_TL\n",
        "8. Approved_Flag\n",
        "9. Credit_Score\n",
        "10. GL_Glag\n",
        "11. HL_Flag\n",
        "12. AGE\n",
        "13. GENDER\n",
        "14. EDUCATION\n",
        "15. MARITALSTATUS\n",
        "16. NETMONTHLYINCOME\n",
        "17. max_unsec_exposure_inPct\n",
        "18. time_since_recent_payment\n"
      ],
      "metadata": {
        "id": "wyNFO8OYjqgj"
      }
    },
    {
      "cell_type": "code",
      "source": [
        "print(df2[\"Approved_Flag\"].unique())\n",
        "print(df2[\"MARITALSTATUS\"].unique())\n",
        "print(df2[\"EDUCATION\"].unique())\n",
        "print(df2[\"NETMONTHLYINCOME\"].unique())\n",
        "print(df2[\"Credit_Score\"].unique())\n",
        "print(df1[\"Age_Newest_TL\"].unique())\n",
        "print(df1[\"Age_Oldest_TL\"].unique())"
      ],
      "metadata": {
        "id": "vfQ5GL4rFKxS"
      },
      "execution_count": null,
      "outputs": []
    },
    {
      "cell_type": "code",
      "source": [
        "df1 = df1.loc[df1[\"Age_Oldest_TL\"]!=-99999]\n"
      ],
      "metadata": {
        "id": "zwH3__qzlw8W"
      },
      "execution_count": null,
      "outputs": []
    },
    {
      "cell_type": "code",
      "source": [
        "# remove null values columns\n",
        "\n",
        "columns_to_be_remove=[]\n",
        "\n",
        "for i in df2.columns:\n",
        "    if df2.loc[df2[i] == -99999].shape[0] > 10000:\n",
        "        columns_to_be_remove.append(i)"
      ],
      "metadata": {
        "id": "eFL7S9rLmBsO"
      },
      "execution_count": null,
      "outputs": []
    },
    {
      "cell_type": "code",
      "source": [
        "df2 = df2.drop(columns_to_be_remove, axis=1)\n"
      ],
      "metadata": {
        "id": "g_NEFQyImEBo"
      },
      "execution_count": null,
      "outputs": []
    },
    {
      "cell_type": "code",
      "source": [
        "for i in df2.columns:\n",
        "    df2 = df2.loc[df2[i]!= -9999]"
      ],
      "metadata": {
        "id": "EkVIG4MamGw5"
      },
      "execution_count": null,
      "outputs": []
    },
    {
      "cell_type": "code",
      "source": [
        "# checking comon column names\n",
        "\n",
        "for i in list(df1.columns):\n",
        "    if i in list(df2.columns):\n",
        "        print(i)"
      ],
      "metadata": {
        "id": "6CogpbV8mLUz"
      },
      "execution_count": null,
      "outputs": []
    },
    {
      "cell_type": "code",
      "source": [
        "\n",
        "# PROSPECTID = coustomerID\n"
      ],
      "metadata": {
        "id": "NYLdwmOomNp1"
      },
      "execution_count": null,
      "outputs": []
    },
    {
      "cell_type": "code",
      "source": [
        "# Marge the two dataframes, inner join  so that no null are present\n",
        "\n",
        "df = pd.merge(df1, df2, how = \"inner\", on=[\"PROSPECTID\"])"
      ],
      "metadata": {
        "id": "Wd4O8uVPmO59"
      },
      "execution_count": null,
      "outputs": []
    },
    {
      "cell_type": "code",
      "source": [
        "# Age distplot\n",
        "plt.figure(figsize=(14,3))\n",
        "plt.subplot(121)\n",
        "sns.distplot(df[\"AGE\"])\n",
        "plt.show()\n",
        "\n",
        "\n",
        "plt.subplot(121)\n",
        "stats.probplot(df[\"AGE\"], dist=\"norm\", plot=plt)\n",
        "plt.show()"
      ],
      "metadata": {
        "id": "OfmonVYnFbfC"
      },
      "execution_count": null,
      "outputs": []
    },
    {
      "cell_type": "code",
      "source": [
        "# Age distplot\n",
        "plt.figure(figsize=(14,3))\n",
        "plt.subplot(121)\n",
        "sns.distplot(df[\"Credit_Score\"])\n",
        "plt.show()\n",
        "plt.subplot(121)\n",
        "stats.probplot(df[\"Credit_Score\"], dist=\"norm\", plot=plt)\n",
        "plt.show()"
      ],
      "metadata": {
        "id": "udpZGapeMha9"
      },
      "execution_count": null,
      "outputs": []
    },
    {
      "cell_type": "code",
      "source": [
        "df.info()"
      ],
      "metadata": {
        "id": "HYYWnwOHNLmF"
      },
      "execution_count": null,
      "outputs": []
    },
    {
      "cell_type": "code",
      "source": [
        "df"
      ],
      "metadata": {
        "id": "NKZBG9humd7f"
      },
      "execution_count": null,
      "outputs": []
    },
    {
      "cell_type": "code",
      "source": [
        "df['Credit_Score'].plot(kind='hist',bins=50)"
      ],
      "metadata": {
        "id": "H04_pQO1miUo"
      },
      "execution_count": null,
      "outputs": []
    },
    {
      "cell_type": "code",
      "source": [
        "df['max_recent_level_of_deliq'].plot(kind='hist',bins=10)"
      ],
      "metadata": {
        "id": "2nghkB-U1kom"
      },
      "execution_count": null,
      "outputs": []
    },
    {
      "cell_type": "code",
      "source": [
        "df['EDUCATION'].value_counts().plot(kind=\"pie\", autopct=\"%0.1f%%\")"
      ],
      "metadata": {
        "id": "ht9WVcxz2KyN"
      },
      "execution_count": null,
      "outputs": []
    },
    {
      "cell_type": "code",
      "source": [
        "sns.heatmap(pd.crosstab(df[\"Approved_Flag\"], df[\"Credit_Score\"], normalize=\"columns\")*100)"
      ],
      "metadata": {
        "id": "WjXHcPxV2zec"
      },
      "execution_count": null,
      "outputs": []
    },
    {
      "cell_type": "code",
      "source": [
        "pd.crosstab(df[\"Approved_Flag\"], df[\"GENDER\"], normalize = \"columns\")*100"
      ],
      "metadata": {
        "id": "-oNsP0a73ZRF"
      },
      "execution_count": null,
      "outputs": []
    },
    {
      "cell_type": "code",
      "source": [
        "pd.crosstab(df[\"Approved_Flag\"], df[\"EDUCATION\"], normalize = \"columns\")*100"
      ],
      "metadata": {
        "id": "c8MSmm9j3x--"
      },
      "execution_count": null,
      "outputs": []
    },
    {
      "cell_type": "code",
      "source": [
        "sns.heatmap(pd.crosstab(df[\"Approved_Flag\"], df[\"GENDER\"], normalize=\"columns\")*100)"
      ],
      "metadata": {
        "id": "kbklwr913Jgk"
      },
      "execution_count": null,
      "outputs": []
    },
    {
      "cell_type": "code",
      "source": [
        "df[df[\"Approved_Flag\"] == 'P1']['Credit_Score'].plot(kind=\"kde\", label =\"p1\")\n",
        "df[df[\"Approved_Flag\"] == 'P2']['Credit_Score'].plot(kind=\"kde\", label =\"p2\")\n",
        "df[df[\"Approved_Flag\"] == 'P3']['Credit_Score'].plot(kind=\"kde\", label =\"p3\")\n",
        "df[df[\"Approved_Flag\"] == 'P4']['Credit_Score'].plot(kind=\"kde\",  label =\"p4\")\n",
        "plt.legend()\n",
        "plt.show()"
      ],
      "metadata": {
        "id": "ZWkWKx2T4SOY"
      },
      "execution_count": null,
      "outputs": []
    },
    {
      "cell_type": "code",
      "source": [
        "df[df[\"Credit_Score\"] > 700]"
      ],
      "metadata": {
        "id": "7wpkcFhg6kHF"
      },
      "execution_count": null,
      "outputs": []
    },
    {
      "cell_type": "code",
      "source": [
        "pd.crosstab(df[\"Total_TL\"], df[\"Approved_Flag\"])"
      ],
      "metadata": {
        "id": "o9Jy5OpZ7oOu"
      },
      "execution_count": null,
      "outputs": []
    },
    {
      "cell_type": "code",
      "source": [
        "df.sample(10)"
      ],
      "metadata": {
        "id": "ghwcQOgr77ju"
      },
      "execution_count": null,
      "outputs": []
    }
  ]
}